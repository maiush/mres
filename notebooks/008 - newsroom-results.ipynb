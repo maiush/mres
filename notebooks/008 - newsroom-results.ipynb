{
 "cells": [
  {
   "cell_type": "code",
   "execution_count": 4,
   "metadata": {},
   "outputs": [],
   "source": [
    "import numpy as np\n",
    "from sklearn.metrics import cohen_kappa_score as kappa\n",
    "\n",
    "import pickle\n",
    "\n",
    "\n",
    "aspects = [\"coherence\", \"consistency\", \"fluency\", \"relevance\"]\n",
    "models = [\"mistral\", \"llama2\", \"llama3\"]"
   ]
  },
  {
   "cell_type": "markdown",
   "metadata": {},
   "source": [
    "### ground truth"
   ]
  },
  {
   "cell_type": "code",
   "execution_count": 2,
   "metadata": {},
   "outputs": [],
   "source": [
    "human_comparisons = {}\n",
    "for aspect in aspects:\n",
    "    infile = open(f\"../comparison_matrices/human/newsroom-{aspect}.pickle\", \"rb\")\n",
    "    human_comparisons[aspect] = pickle.load(infile)\n",
    "    infile.close()"
   ]
  },
  {
   "cell_type": "markdown",
   "metadata": {},
   "source": [
    "### direct scoring"
   ]
  },
  {
   "cell_type": "code",
   "execution_count": 18,
   "metadata": {},
   "outputs": [
    {
     "name": "stdout",
     "output_type": "stream",
     "text": [
      "\n",
      "mistral\n",
      "coherence | accuracy: 0.67, cohen's kappa: 0.18\n",
      "consistency | accuracy: 0.65, cohen's kappa: 0.14\n",
      "fluency | accuracy: 0.66, cohen's kappa: 0.16\n",
      "relevance | accuracy: 0.67, cohen's kappa: 0.19\n",
      "\n",
      "llama2\n",
      "coherence | accuracy: 0.61, cohen's kappa: 0.01\n",
      "consistency | accuracy: 0.62, cohen's kappa: 0.04\n",
      "fluency | accuracy: 0.63, cohen's kappa: 0.01\n",
      "relevance | accuracy: 0.63, cohen's kappa: 0.01\n",
      "\n",
      "llama3\n",
      "coherence | accuracy: 0.61, cohen's kappa: 0.04\n",
      "consistency | accuracy: 0.59, cohen's kappa: -0.03\n",
      "fluency | accuracy: 0.62, cohen's kappa: 0.04\n",
      "relevance | accuracy: 0.63, cohen's kappa: 0.04\n"
     ]
    }
   ],
   "source": [
    "for model in models:\n",
    "    print()\n",
    "    print(model)\n",
    "    model_comparisons = {}\n",
    "    for aspect in aspects:\n",
    "        infile = open(f\"../comparison_matrices/{model}/scores-newsroom-{aspect}.pickle\", \"rb\")\n",
    "        model_comparisons[aspect] = pickle.load(infile)\n",
    "        infile.close()\n",
    "\n",
    "    for aspect in aspects:\n",
    "        accuracies = []\n",
    "        kappas = []\n",
    "        for i in range(60):\n",
    "            y1 = human_comparisons[aspect][i].flatten() > 0.5\n",
    "            y2 = model_comparisons[aspect][i].flatten() > 0.5\n",
    "            accuracies.append((y1 == y2).mean())\n",
    "            kappas.append(kappa(y1, y2))\n",
    "        print(f\"{aspect} | accuracy: {round(np.mean(accuracies), 2)}, cohen's kappa: {round(np.mean(kappas), 2)}\")"
   ]
  },
  {
   "cell_type": "markdown",
   "metadata": {},
   "source": [
    "### logits"
   ]
  },
  {
   "cell_type": "code",
   "execution_count": 19,
   "metadata": {},
   "outputs": [
    {
     "name": "stdout",
     "output_type": "stream",
     "text": [
      "\n",
      "mistral\n",
      "coherence | accuracy: 0.51, cohen's kappa: -0.03\n",
      "consistency | accuracy: 0.58, cohen's kappa: 0.13\n",
      "fluency | accuracy: 0.51, cohen's kappa: -0.02\n",
      "relevance | accuracy: 0.55, cohen's kappa: 0.06\n",
      "\n",
      "llama2\n",
      "coherence | accuracy: 0.45, cohen's kappa: -0.14\n",
      "consistency | accuracy: 0.38, cohen's kappa: -0.28\n",
      "fluency | accuracy: 0.47, cohen's kappa: -0.1\n",
      "relevance | accuracy: 0.39, cohen's kappa: -0.27\n",
      "\n",
      "llama3\n",
      "coherence | accuracy: 0.39, cohen's kappa: -0.26\n",
      "consistency | accuracy: 0.41, cohen's kappa: -0.21\n",
      "fluency | accuracy: 0.41, cohen's kappa: -0.23\n",
      "relevance | accuracy: 0.41, cohen's kappa: -0.23\n"
     ]
    }
   ],
   "source": [
    "for model in models:\n",
    "    print()\n",
    "    print(model)\n",
    "    model_comparisons = {}\n",
    "    for aspect in aspects:\n",
    "        infile = open(f\"../comparison_matrices/{model}/logits-short-newsroom-{aspect}.pickle\", \"rb\")\n",
    "        model_comparisons[aspect] = pickle.load(infile)\n",
    "        infile.close()\n",
    "\n",
    "    for aspect in aspects:\n",
    "        accuracies = []\n",
    "        kappas = []\n",
    "        for i in range(60):\n",
    "            y1 = human_comparisons[aspect][i].flatten() > 0.5\n",
    "            y2 = model_comparisons[aspect][i].flatten() > 0.5\n",
    "            accuracies.append((y1 == y2).mean())\n",
    "            kappas.append(kappa(y1, y2))\n",
    "        print(f\"{aspect} | accuracy: {round(np.mean(accuracies), 2)}, cohen's kappa: {round(np.mean(kappas), 2)}\")"
   ]
  },
  {
   "cell_type": "markdown",
   "metadata": {},
   "source": [
    "### supervised probes"
   ]
  },
  {
   "cell_type": "code",
   "execution_count": 21,
   "metadata": {},
   "outputs": [
    {
     "name": "stdout",
     "output_type": "stream",
     "text": [
      "\n",
      "mistral\n",
      "coherence | accuracy: 0.76, cohen's kappa: 0.5\n",
      "consistency | accuracy: 0.8, cohen's kappa: 0.58\n",
      "fluency | accuracy: 0.75, cohen's kappa: 0.48\n",
      "relevance | accuracy: 0.79, cohen's kappa: 0.55\n",
      "\n",
      "llama2\n",
      "coherence | accuracy: 0.78, cohen's kappa: 0.54\n",
      "consistency | accuracy: 0.81, cohen's kappa: 0.61\n",
      "fluency | accuracy: 0.76, cohen's kappa: 0.5\n",
      "relevance | accuracy: 0.79, cohen's kappa: 0.57\n",
      "\n",
      "llama3\n",
      "coherence | accuracy: 0.75, cohen's kappa: 0.48\n",
      "consistency | accuracy: 0.81, cohen's kappa: 0.61\n",
      "fluency | accuracy: 0.72, cohen's kappa: 0.42\n",
      "relevance | accuracy: 0.77, cohen's kappa: 0.53\n"
     ]
    }
   ],
   "source": [
    "for model in models:\n",
    "    print()\n",
    "    print(model)\n",
    "    model_comparisons = {}\n",
    "    for aspect in aspects:\n",
    "        infile = open(f\"../comparison_matrices/{model}/activations-short-newsroom-{aspect}.pickle\", \"rb\")\n",
    "        model_comparisons[aspect] = pickle.load(infile)\n",
    "        infile.close()\n",
    "\n",
    "    for aspect in aspects:\n",
    "        accuracies = []\n",
    "        kappas = []\n",
    "        for i in range(30):\n",
    "            y1 = human_comparisons[aspect][30+i].flatten() > 0.5\n",
    "            y2 = model_comparisons[aspect][i].flatten() > 0.5\n",
    "            accuracies.append((y1 == y2).mean())\n",
    "            kappas.append(kappa(y1, y2))\n",
    "        print(f\"{aspect} | accuracy: {round(np.mean(accuracies), 2)}, cohen's kappa: {round(np.mean(kappas), 2)}\")"
   ]
  },
  {
   "cell_type": "markdown",
   "metadata": {},
   "source": [
    "### unsupervised probes"
   ]
  }
 ],
 "metadata": {
  "kernelspec": {
   "display_name": "pairs",
   "language": "python",
   "name": "python3"
  },
  "language_info": {
   "codemirror_mode": {
    "name": "ipython",
    "version": 3
   },
   "file_extension": ".py",
   "mimetype": "text/x-python",
   "name": "python",
   "nbconvert_exporter": "python",
   "pygments_lexer": "ipython3",
   "version": "3.12.2"
  }
 },
 "nbformat": 4,
 "nbformat_minor": 2
}
