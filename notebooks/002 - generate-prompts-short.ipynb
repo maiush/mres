{
 "cells": [
  {
   "cell_type": "markdown",
   "metadata": {},
   "source": [
    "As with the previous notebook, if rerunning this, remember to run Llama"
   ]
  },
  {
   "cell_type": "code",
   "execution_count": 1,
   "metadata": {},
   "outputs": [],
   "source": [
    "import sys; sys.path.append(\"../utils\")\n",
    "from constants import *\n",
    "import pandas as pd\n",
    "\n",
    "\n",
    "prompt_sets = [\"mine-compare-1\", \"mine-compare-2\", \"theirs-compare\"]"
   ]
  },
  {
   "cell_type": "markdown",
   "metadata": {},
   "source": [
    "### newsroom"
   ]
  },
  {
   "cell_type": "code",
   "execution_count": 2,
   "metadata": {},
   "outputs": [],
   "source": [
    "for prompt_set in prompt_sets:\n",
    "    df = pd.read_json(f\"{gdrive_path}/model_harvesting/prompts/newsroom-{prompt_set}.jsonl\", orient=\"records\", lines=True)\n",
    "    ixs, pairs = [], []\n",
    "    for i, row in df.iterrows():\n",
    "        id1, id2 = df.at[i, \"system_id\"]\n",
    "        if id1 == id2: continue\n",
    "        if (id2, id1) in pairs: continue\n",
    "        ixs.append(i)\n",
    "        pairs.append((id1, id2))\n",
    "    df = df.loc[ixs]\n",
    "    df.to_json(f\"{gdrive_path}/model_harvesting/prompts_short/newsroom-{prompt_set}.jsonl\", orient=\"records\", lines=True)"
   ]
  },
  {
   "cell_type": "markdown",
   "metadata": {},
   "source": [
    "### summeval"
   ]
  },
  {
   "cell_type": "code",
   "execution_count": 3,
   "metadata": {},
   "outputs": [],
   "source": [
    "for prompt_set in prompt_sets:\n",
    "    df = pd.read_json(f\"{gdrive_path}/model_harvesting/prompts/summeval-{prompt_set}.jsonl\", orient=\"records\", lines=True)\n",
    "    ixs, pairs = [], []\n",
    "    for i, row in df.iterrows():\n",
    "        id1, id2 = df.at[i, \"system_id\"]\n",
    "        if id1 == id2: continue\n",
    "        if (id2, id1) in pairs: continue\n",
    "        ixs.append(i)\n",
    "        pairs.append((id1, id2))\n",
    "    df = df.loc[ixs]\n",
    "    df.to_json(f\"{gdrive_path}/model_harvesting/prompts_short/summeval-{prompt_set}.jsonl\", orient=\"records\", lines=True)"
   ]
  }
 ],
 "metadata": {
  "kernelspec": {
   "display_name": "pairs",
   "language": "python",
   "name": "python3"
  },
  "language_info": {
   "codemirror_mode": {
    "name": "ipython",
    "version": 3
   },
   "file_extension": ".py",
   "mimetype": "text/x-python",
   "name": "python",
   "nbconvert_exporter": "python",
   "pygments_lexer": "ipython3",
   "version": "3.12.2"
  }
 },
 "nbformat": 4,
 "nbformat_minor": 2
}
