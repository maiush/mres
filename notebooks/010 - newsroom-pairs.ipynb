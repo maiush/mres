{
 "cells": [
  {
   "cell_type": "code",
   "execution_count": 1,
   "metadata": {},
   "outputs": [],
   "source": [
    "import os, sys\n",
    "sys.path.append(\"../utils\")\n",
    "from constants import *\n",
    "from helper import get_id_dict\n",
    "\n",
    "from sort import mergesort\n",
    "from scipy.stats import spearmanr as rho\n",
    "import numpy as np\n",
    "import pandas as pd\n",
    "\n",
    "import pickle\n",
    "\n",
    "\n",
    "dataset = \"newsroom\"\n",
    "aspects = [\"coherence\", \"consistency\", \"fluency\", \"relevance\"]\n",
    "models = [\"mistral\", \"llama2\", \"llama3\"]"
   ]
  },
  {
   "cell_type": "code",
   "execution_count": 2,
   "metadata": {},
   "outputs": [],
   "source": [
    "id_dict = get_id_dict(dataset)\n",
    "articles = [k for k in id_dict.keys()]\n",
    "data = pd.read_json(f\"{gdrive_path}/model_harvesting/prompts/{dataset}-theirs-score.jsonl\", orient=\"records\", lines=True)"
   ]
  },
  {
   "cell_type": "markdown",
   "metadata": {},
   "source": [
    "### direct scoring"
   ]
  },
  {
   "cell_type": "code",
   "execution_count": 3,
   "metadata": {},
   "outputs": [
    {
     "name": "stdout",
     "output_type": "stream",
     "text": [
      "\n",
      "mistral\n",
      "coherence | rho: 0.1\n",
      "consistency | rho: -0.08\n",
      "fluency | rho: 0.08\n",
      "relevance | rho: 0.03\n",
      "\n",
      "llama2\n",
      "coherence | rho: -0.18\n",
      "consistency | rho: -0.23\n",
      "fluency | rho: -0.23\n",
      "relevance | rho: -0.35\n",
      "\n",
      "llama3\n",
      "coherence | rho: -0.17\n",
      "consistency | rho: -0.33\n",
      "fluency | rho: -0.12\n",
      "relevance | rho: -0.22\n"
     ]
    }
   ],
   "source": [
    "for model in models:\n",
    "    print()\n",
    "    print(model)\n",
    "    model_comparisons = {}\n",
    "    for aspect in aspects:\n",
    "        infile = open(f\"../comparison_matrices/{model}/scores-newsroom-{aspect}.pickle\", \"rb\")\n",
    "        model_comparisons[aspect] = pickle.load(infile)\n",
    "        infile.close()\n",
    "\n",
    "    for aspect in aspects:\n",
    "        rs = []\n",
    "        for i in range(60):\n",
    "            article = articles[i]\n",
    "            scores = data.loc[data[\"article_id\"] == article].set_index(\"system_id\")\n",
    "            scores = scores.loc[id_dict[article], aspect].values\n",
    "            # calculate uncertainty matrix\n",
    "            P = model_comparisons[aspect][i]\n",
    "            U = np.zeros_like(P)\n",
    "            for i in range(len(U)):\n",
    "                for j in range(len(U)):\n",
    "                    U[i, j] = -P[i, j]*np.log(P[i, j] + 1e-10) - P[j, i]*np.log(P[j, i] + 1e-10)\n",
    "            # rank through PairS\n",
    "            model_ranking = mergesort(\n",
    "                ixs = np.arange(len(P)),\n",
    "                P = P,\n",
    "                beam = True,\n",
    "                beam_size = 1000,\n",
    "                Uh = 0.6,\n",
    "                U = U\n",
    "            )\n",
    "            # spearman correlation\n",
    "            r = rho(scores[model_ranking], np.sort(scores)[::-1])[0]\n",
    "            rs.append(r)\n",
    "        print(f\"{aspect} | rho: {round(np.mean(rs), 2)}\")"
   ]
  },
  {
   "cell_type": "markdown",
   "metadata": {},
   "source": [
    "### logits"
   ]
  },
  {
   "cell_type": "code",
   "execution_count": 4,
   "metadata": {},
   "outputs": [
    {
     "name": "stdout",
     "output_type": "stream",
     "text": [
      "\n",
      "mistral\n",
      "coherence | rho: -0.16\n",
      "consistency | rho: 0.07\n",
      "fluency | rho: -0.17\n",
      "relevance | rho: -0.11\n",
      "\n",
      "llama2\n",
      "coherence | rho: -0.35\n",
      "consistency | rho: -0.53\n",
      "fluency | rho: -0.3\n",
      "relevance | rho: -0.54\n",
      "\n",
      "llama3\n",
      "coherence | rho: -0.5\n",
      "consistency | rho: -0.43\n",
      "fluency | rho: -0.46\n",
      "relevance | rho: -0.49\n"
     ]
    }
   ],
   "source": [
    "for model in models:\n",
    "    print()\n",
    "    print(model)\n",
    "    model_comparisons = {}\n",
    "    for aspect in aspects:\n",
    "        infile = open(f\"../comparison_matrices/{model}/logits-short-newsroom-{aspect}.pickle\", \"rb\")\n",
    "        model_comparisons[aspect] = pickle.load(infile)\n",
    "        infile.close()\n",
    "\n",
    "    for aspect in aspects:\n",
    "        rs = []\n",
    "        for i in range(60):\n",
    "            article = articles[i]\n",
    "            scores = data.loc[data[\"article_id\"] == article].set_index(\"system_id\")\n",
    "            scores = scores.loc[id_dict[article], aspect].values\n",
    "            # calculate uncertainty matrix\n",
    "            P = model_comparisons[aspect][i]\n",
    "            U = np.zeros_like(P)\n",
    "            for i in range(len(U)):\n",
    "                for j in range(len(U)):\n",
    "                    U[i, j] = -P[i, j]*np.log(P[i, j] + 1e-10) - P[j, i]*np.log(P[j, i] + 1e-10)\n",
    "            # rank through PairS\n",
    "            model_ranking = mergesort(\n",
    "                ixs = np.arange(len(P)),\n",
    "                P = P,\n",
    "                beam = True,\n",
    "                beam_size = 1000,\n",
    "                Uh = 0.6,\n",
    "                U = U\n",
    "            )\n",
    "            # spearman correlation\n",
    "            r = rho(scores[model_ranking], np.sort(scores)[::-1])[0]\n",
    "            rs.append(r)\n",
    "        print(f\"{aspect} | rho: {round(np.mean(rs), 2)}\")"
   ]
  },
  {
   "cell_type": "markdown",
   "metadata": {},
   "source": [
    "### supervised probes"
   ]
  },
  {
   "cell_type": "code",
   "execution_count": 7,
   "metadata": {},
   "outputs": [
    {
     "name": "stdout",
     "output_type": "stream",
     "text": [
      "\n",
      "mistral\n",
      "coherence | rho: 0.52\n"
     ]
    },
    {
     "name": "stdout",
     "output_type": "stream",
     "text": [
      "consistency | rho: 0.64\n",
      "fluency | rho: 0.55\n",
      "relevance | rho: 0.62\n",
      "\n",
      "llama2\n",
      "coherence | rho: 0.57\n",
      "consistency | rho: 0.66\n",
      "fluency | rho: 0.48\n",
      "relevance | rho: 0.66\n",
      "\n",
      "llama3\n",
      "coherence | rho: 0.55\n",
      "consistency | rho: 0.7\n",
      "fluency | rho: 0.47\n",
      "relevance | rho: 0.56\n"
     ]
    }
   ],
   "source": [
    "for model in models:\n",
    "    print()\n",
    "    print(model)\n",
    "    model_comparisons = {}\n",
    "    for aspect in aspects:\n",
    "        infile = open(f\"../comparison_matrices/{model}/activations-short-newsroom-{aspect}.pickle\", \"rb\")\n",
    "        model_comparisons[aspect] = pickle.load(infile)\n",
    "        infile.close()\n",
    "\n",
    "    for aspect in aspects:\n",
    "        rs = []\n",
    "        for i in range(30):\n",
    "            article = articles[30+i]\n",
    "            scores = data.loc[data[\"article_id\"] == article].set_index(\"system_id\")\n",
    "            scores = scores.loc[id_dict[article], aspect].values\n",
    "            # calculate uncertainty matrix\n",
    "            P = model_comparisons[aspect][i]\n",
    "            U = np.zeros_like(P)\n",
    "            for i in range(len(U)):\n",
    "                for j in range(len(U)):\n",
    "                    U[i, j] = -P[i, j]*np.log(P[i, j] + 1e-10) - P[j, i]*np.log(P[j, i] + 1e-10)\n",
    "            # rank through PairS\n",
    "            model_ranking = mergesort(\n",
    "                ixs = np.arange(len(P)),\n",
    "                P = P,\n",
    "                beam = True,\n",
    "                beam_size = 1000,\n",
    "                Uh = 0.6,\n",
    "                U = U\n",
    "            )\n",
    "            # spearman correlation\n",
    "            r = rho(scores[model_ranking], np.sort(scores)[::-1])[0]\n",
    "            rs.append(r)\n",
    "        print(f\"{aspect} | rho: {round(np.mean(rs), 2)}\")"
   ]
  },
  {
   "cell_type": "markdown",
   "metadata": {},
   "source": [
    "### unsupervised probes"
   ]
  }
 ],
 "metadata": {
  "kernelspec": {
   "display_name": "pairs",
   "language": "python",
   "name": "python3"
  },
  "language_info": {
   "codemirror_mode": {
    "name": "ipython",
    "version": 3
   },
   "file_extension": ".py",
   "mimetype": "text/x-python",
   "name": "python",
   "nbconvert_exporter": "python",
   "pygments_lexer": "ipython3",
   "version": "3.12.2"
  }
 },
 "nbformat": 4,
 "nbformat_minor": 2
}
